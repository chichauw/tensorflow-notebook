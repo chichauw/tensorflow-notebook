{
 "cells": [
  {
   "cell_type": "markdown",
   "metadata": {},
   "source": [
    "## Add files to repositories by Git"
   ]
  },
  {
   "cell_type": "markdown",
   "metadata": {},
   "source": [
    "Create a new file in local folder, for example, file.txt. "
   ]
  },
  {
   "cell_type": "markdown",
   "metadata": {},
   "source": [
    ">\\> git status\n",
    "\n",
    ">\\> git add file.txt\n",
    "\n",
    ">\\> git status\n",
    "\n",
    ">\\> git commit -m \"new file\"\n",
    "\n",
    ">\\> git push origin master"
   ]
  },
  {
   "cell_type": "markdown",
   "metadata": {},
   "source": [
    "## Remove files from repositories by Git"
   ]
  },
  {
   "cell_type": "markdown",
   "metadata": {},
   "source": [
    "\n",
    ">\\> git rm file1.txt\n",
    "\n",
    "\n",
    ">\\> git commit -m \"remove file1\"\n",
    "\n",
    ">\\> git status\n",
    "\n",
    ">\\> git push origin master\n",
    "\n",
    "\n",
    "\n"
   ]
  }
 ],
 "metadata": {
  "kernelspec": {
   "display_name": "Python 3",
   "language": "python",
   "name": "python3"
  },
  "language_info": {
   "codemirror_mode": {
    "name": "ipython",
    "version": 3
   },
   "file_extension": ".py",
   "mimetype": "text/x-python",
   "name": "python",
   "nbconvert_exporter": "python",
   "pygments_lexer": "ipython3",
   "version": "3.6.1"
  }
 },
 "nbformat": 4,
 "nbformat_minor": 2
}
