{
 "cells": [
  {
   "cell_type": "markdown",
   "metadata": {},
   "source": [
    "## Add files to repositories by Git"
   ]
  },
  {
   "cell_type": "markdown",
   "metadata": {},
   "source": [
    "Create a new file in local folder, for example, file.txt. "
   ]
  },
  {
   "cell_type": "raw",
   "metadata": {},
   "source": [
    "\n",
    ">> git status\n",
    "On branch master\n",
    "Your branch is up-to-date with 'origin/master'.\n",
    "Untracked files:\n",
    "  (use \"git add <file>...\" to include in what will be committed)\n",
    "\n",
    "\tfile.txt\n",
    "\n",
    "nothing added to commit but untracked files present (use \"git add\" to track)\n",
    "\n",
    "\n",
    ">> git add file.txt\n",
    "\n",
    "\n",
    ">> git status\n",
    "On branch master\n",
    "Your branch is up-to-date with 'origin/master'.\n",
    "Changes to be committed:\n",
    "  (use \"git reset HEAD <file>...\" to unstage)\n",
    "\n",
    "\tnew file:   file1.txt\n",
    "\n",
    "                                                                                \n",
    "tensorflow-notebook git/master* \n",
    "\n",
    "\n",
    ">> git commit -m \"new file\"\n",
    "\n",
    "\n",
    ">> git push origin master\n"
   ]
  },
  {
   "cell_type": "markdown",
   "metadata": {},
   "source": [
    "## Remove files from repositories by Git"
   ]
  },
  {
   "cell_type": "raw",
   "metadata": {},
   "source": [
    "\n",
    ">> git rm file1.txt\n",
    "\n",
    "\n",
    ">> git commit -m \"remove file1\"\n",
    "\n",
    "\n",
    ">> git status\n",
    "\n",
    ">> git push origin master\n",
    "\n",
    "\n",
    "\n"
   ]
  }
 ],
 "metadata": {
  "kernelspec": {
   "display_name": "Python 3",
   "language": "python",
   "name": "python3"
  },
  "language_info": {
   "codemirror_mode": {
    "name": "ipython",
    "version": 3
   },
   "file_extension": ".py",
   "mimetype": "text/x-python",
   "name": "python",
   "nbconvert_exporter": "python",
   "pygments_lexer": "ipython3",
   "version": "3.6.1"
  }
 },
 "nbformat": 4,
 "nbformat_minor": 2
}
